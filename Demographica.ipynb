{
  "nbformat": 4,
  "nbformat_minor": 0,
  "metadata": {
    "colab": {
      "provenance": [],
      "authorship_tag": "ABX9TyMuan+TZ3AYdhgLh2VzEJTc",
      "include_colab_link": true
    },
    "kernelspec": {
      "name": "python3",
      "display_name": "Python 3"
    },
    "language_info": {
      "name": "python"
    }
  },
  "cells": [
    {
      "cell_type": "markdown",
      "metadata": {
        "id": "view-in-github",
        "colab_type": "text"
      },
      "source": [
        "<a href=\"https://colab.research.google.com/github/Meshal-Css/my-project-/blob/main/Demographica.ipynb\" target=\"_parent\"><img src=\"https://colab.research.google.com/assets/colab-badge.svg\" alt=\"Open In Colab\"/></a>"
      ]
    },
    {
      "cell_type": "code",
      "source": [
        "! pip install pandas geopandas matplotlib"
      ],
      "metadata": {
        "colab": {
          "base_uri": "https://localhost:8080/"
        },
        "id": "Z4O2A3M0Cg48",
        "outputId": "28dd8295-7d31-4f2a-db1c-c8379e7236c8"
      },
      "execution_count": 30,
      "outputs": [
        {
          "output_type": "stream",
          "name": "stdout",
          "text": [
            "Requirement already satisfied: pandas in /usr/local/lib/python3.10/dist-packages (2.2.2)\n",
            "Requirement already satisfied: geopandas in /usr/local/lib/python3.10/dist-packages (1.0.1)\n",
            "Requirement already satisfied: matplotlib in /usr/local/lib/python3.10/dist-packages (3.8.0)\n",
            "Requirement already satisfied: numpy>=1.22.4 in /usr/local/lib/python3.10/dist-packages (from pandas) (1.26.4)\n",
            "Requirement already satisfied: python-dateutil>=2.8.2 in /usr/local/lib/python3.10/dist-packages (from pandas) (2.8.2)\n",
            "Requirement already satisfied: pytz>=2020.1 in /usr/local/lib/python3.10/dist-packages (from pandas) (2024.2)\n",
            "Requirement already satisfied: tzdata>=2022.7 in /usr/local/lib/python3.10/dist-packages (from pandas) (2024.2)\n",
            "Requirement already satisfied: pyogrio>=0.7.2 in /usr/local/lib/python3.10/dist-packages (from geopandas) (0.10.0)\n",
            "Requirement already satisfied: packaging in /usr/local/lib/python3.10/dist-packages (from geopandas) (24.2)\n",
            "Requirement already satisfied: pyproj>=3.3.0 in /usr/local/lib/python3.10/dist-packages (from geopandas) (3.7.0)\n",
            "Requirement already satisfied: shapely>=2.0.0 in /usr/local/lib/python3.10/dist-packages (from geopandas) (2.0.6)\n",
            "Requirement already satisfied: contourpy>=1.0.1 in /usr/local/lib/python3.10/dist-packages (from matplotlib) (1.3.1)\n",
            "Requirement already satisfied: cycler>=0.10 in /usr/local/lib/python3.10/dist-packages (from matplotlib) (0.12.1)\n",
            "Requirement already satisfied: fonttools>=4.22.0 in /usr/local/lib/python3.10/dist-packages (from matplotlib) (4.55.0)\n",
            "Requirement already satisfied: kiwisolver>=1.0.1 in /usr/local/lib/python3.10/dist-packages (from matplotlib) (1.4.7)\n",
            "Requirement already satisfied: pillow>=6.2.0 in /usr/local/lib/python3.10/dist-packages (from matplotlib) (11.0.0)\n",
            "Requirement already satisfied: pyparsing>=2.3.1 in /usr/local/lib/python3.10/dist-packages (from matplotlib) (3.2.0)\n",
            "Requirement already satisfied: certifi in /usr/local/lib/python3.10/dist-packages (from pyogrio>=0.7.2->geopandas) (2024.8.30)\n",
            "Requirement already satisfied: six>=1.5 in /usr/local/lib/python3.10/dist-packages (from python-dateutil>=2.8.2->pandas) (1.16.0)\n"
          ]
        }
      ]
    },
    {
      "cell_type": "code",
      "source": [
        "! pip install arabic-reshaper python-bidi"
      ],
      "metadata": {
        "colab": {
          "base_uri": "https://localhost:8080/"
        },
        "id": "M-prEd9c6GgK",
        "outputId": "a0f7a4e7-556c-40fd-8384-b02f159a83bb"
      },
      "execution_count": 15,
      "outputs": [
        {
          "output_type": "stream",
          "name": "stdout",
          "text": [
            "Collecting arabic-reshaper\n",
            "  Downloading arabic_reshaper-3.0.0-py3-none-any.whl.metadata (12 kB)\n",
            "Collecting python-bidi\n",
            "  Downloading python_bidi-0.6.3-cp310-cp310-manylinux_2_17_x86_64.manylinux2014_x86_64.whl.metadata (4.9 kB)\n",
            "Downloading arabic_reshaper-3.0.0-py3-none-any.whl (20 kB)\n",
            "Downloading python_bidi-0.6.3-cp310-cp310-manylinux_2_17_x86_64.manylinux2014_x86_64.whl (286 kB)\n",
            "\u001b[2K   \u001b[90m━━━━━━━━━━━━━━━━━━━━━━━━━━━━━━━━━━━━━━━━\u001b[0m \u001b[32m286.8/286.8 kB\u001b[0m \u001b[31m6.1 MB/s\u001b[0m eta \u001b[36m0:00:00\u001b[0m\n",
            "\u001b[?25hInstalling collected packages: python-bidi, arabic-reshaper\n",
            "Successfully installed arabic-reshaper-3.0.0 python-bidi-0.6.3\n"
          ]
        }
      ]
    },
    {
      "cell_type": "code",
      "execution_count": 21,
      "metadata": {
        "id": "fTzVw5hg3eTv"
      },
      "outputs": [],
      "source": [
        "# Libraries\n",
        "import pandas as pd\n",
        "import numpy as np\n",
        "import matplotlib.pyplot as plt\n",
        "import seaborn as sns\n",
        "import arabic_reshaper\n",
        "from bidi.algorithm import get_display\n",
        "import geopandas as gpd"
      ]
    },
    {
      "cell_type": "code",
      "source": [
        "!pip install geopandas\n",
        "!wget https://www.naturalearthdata.com/http//www.naturalearthdata.com/download/110m/cultural/ne_110m_admin_0_countries.zip\n",
        "!unzip ne_110m_admin_0_countries.zip\n",
        "\n",
        "import geopandas as gpd\n",
        "\n",
        "# Load the downloaded shapefile\n",
        "world = gpd.read_file(\"/content/ne_10m_admin_1_states_provinces.zip\")"
      ],
      "metadata": {
        "colab": {
          "base_uri": "https://localhost:8080/"
        },
        "id": "ifh2sSVH_FW2",
        "outputId": "4149e4ae-ad66-45f5-bea2-c7698f99dbfd"
      },
      "execution_count": 26,
      "outputs": [
        {
          "output_type": "stream",
          "name": "stdout",
          "text": [
            "Requirement already satisfied: geopandas in /usr/local/lib/python3.10/dist-packages (1.0.1)\n",
            "Requirement already satisfied: numpy>=1.22 in /usr/local/lib/python3.10/dist-packages (from geopandas) (1.26.4)\n",
            "Requirement already satisfied: pyogrio>=0.7.2 in /usr/local/lib/python3.10/dist-packages (from geopandas) (0.10.0)\n",
            "Requirement already satisfied: packaging in /usr/local/lib/python3.10/dist-packages (from geopandas) (24.2)\n",
            "Requirement already satisfied: pandas>=1.4.0 in /usr/local/lib/python3.10/dist-packages (from geopandas) (2.2.2)\n",
            "Requirement already satisfied: pyproj>=3.3.0 in /usr/local/lib/python3.10/dist-packages (from geopandas) (3.7.0)\n",
            "Requirement already satisfied: shapely>=2.0.0 in /usr/local/lib/python3.10/dist-packages (from geopandas) (2.0.6)\n",
            "Requirement already satisfied: python-dateutil>=2.8.2 in /usr/local/lib/python3.10/dist-packages (from pandas>=1.4.0->geopandas) (2.8.2)\n",
            "Requirement already satisfied: pytz>=2020.1 in /usr/local/lib/python3.10/dist-packages (from pandas>=1.4.0->geopandas) (2024.2)\n",
            "Requirement already satisfied: tzdata>=2022.7 in /usr/local/lib/python3.10/dist-packages (from pandas>=1.4.0->geopandas) (2024.2)\n",
            "Requirement already satisfied: certifi in /usr/local/lib/python3.10/dist-packages (from pyogrio>=0.7.2->geopandas) (2024.8.30)\n",
            "Requirement already satisfied: six>=1.5 in /usr/local/lib/python3.10/dist-packages (from python-dateutil>=2.8.2->pandas>=1.4.0->geopandas) (1.16.0)\n",
            "--2024-11-27 19:06:31--  https://www.naturalearthdata.com/http//www.naturalearthdata.com/download/110m/cultural/ne_110m_admin_0_countries.zip\n",
            "Resolving www.naturalearthdata.com (www.naturalearthdata.com)... 50.87.253.14\n",
            "Connecting to www.naturalearthdata.com (www.naturalearthdata.com)|50.87.253.14|:443... connected.\n",
            "HTTP request sent, awaiting response... 500 Internal Server Error\n",
            "2024-11-27 19:06:31 ERROR 500: Internal Server Error.\n",
            "\n",
            "unzip:  cannot find or open ne_110m_admin_0_countries.zip, ne_110m_admin_0_countries.zip.zip or ne_110m_admin_0_countries.zip.ZIP.\n"
          ]
        }
      ]
    },
    {
      "cell_type": "code",
      "source": [
        "# USE DATA\n",
        "DATA = pd.read_csv('/content/PopulationbyNationalitybyRegionGovernorateCityandNationalityARCSV.csv')"
      ],
      "metadata": {
        "id": "KoTNm18a34E2"
      },
      "execution_count": 3,
      "outputs": []
    },
    {
      "cell_type": "code",
      "source": [
        "DATA.info()"
      ],
      "metadata": {
        "colab": {
          "base_uri": "https://localhost:8080/"
        },
        "id": "bxU92Wjo4Ese",
        "outputId": "c6dc69f1-ee55-4350-9c47-e1236eccfa62"
      },
      "execution_count": 4,
      "outputs": [
        {
          "output_type": "stream",
          "name": "stdout",
          "text": [
            "<class 'pandas.core.frame.DataFrame'>\n",
            "RangeIndex: 48878 entries, 0 to 48877\n",
            "Data columns (total 6 columns):\n",
            " #   Column    Non-Null Count  Dtype \n",
            "---  ------    --------------  ----- \n",
            " 0   الجنسية   48878 non-null  object\n",
            " 1   المحافظة  48878 non-null  object\n",
            " 2   المدينة   48878 non-null  object\n",
            " 3   المنطقة   48878 non-null  object\n",
            " 4   النوع     48878 non-null  object\n",
            " 5   السكان    48878 non-null  int64 \n",
            "dtypes: int64(1), object(5)\n",
            "memory usage: 2.2+ MB\n"
          ]
        }
      ]
    },
    {
      "cell_type": "code",
      "source": [
        "DATA.head()"
      ],
      "metadata": {
        "colab": {
          "base_uri": "https://localhost:8080/",
          "height": 206
        },
        "id": "LjyHsY844MXX",
        "outputId": "e59042e7-ff4e-45f9-ae50-8f6020e153ad"
      },
      "execution_count": 5,
      "outputs": [
        {
          "output_type": "execute_result",
          "data": {
            "text/plain": [
              "  الجنسية المحافظة          المدينة          المنطقة النوع  السكان\n",
              "0   سعودي    ميسان  (القان) ابوضروه      مكة المكرمة  أنثى       8\n",
              "1   سعودي    ميسان  (القان) ابوضروه      مكة المكرمة   ذكر       9\n",
              "2   سعودي    المهد     آبار البدايع  المدينة المنورة  أنثى      17\n",
              "3   سعودي    المهد     آبار البدايع  المدينة المنورة   ذكر       8\n",
              "4   سعودي    المهد      آبار الخبره  المدينة المنورة   ذكر       7"
            ],
            "text/html": [
              "\n",
              "  <div id=\"df-95344e7d-d83a-4618-8fa7-c9b1b7067104\" class=\"colab-df-container\">\n",
              "    <div>\n",
              "<style scoped>\n",
              "    .dataframe tbody tr th:only-of-type {\n",
              "        vertical-align: middle;\n",
              "    }\n",
              "\n",
              "    .dataframe tbody tr th {\n",
              "        vertical-align: top;\n",
              "    }\n",
              "\n",
              "    .dataframe thead th {\n",
              "        text-align: right;\n",
              "    }\n",
              "</style>\n",
              "<table border=\"1\" class=\"dataframe\">\n",
              "  <thead>\n",
              "    <tr style=\"text-align: right;\">\n",
              "      <th></th>\n",
              "      <th>الجنسية</th>\n",
              "      <th>المحافظة</th>\n",
              "      <th>المدينة</th>\n",
              "      <th>المنطقة</th>\n",
              "      <th>النوع</th>\n",
              "      <th>السكان</th>\n",
              "    </tr>\n",
              "  </thead>\n",
              "  <tbody>\n",
              "    <tr>\n",
              "      <th>0</th>\n",
              "      <td>سعودي</td>\n",
              "      <td>ميسان</td>\n",
              "      <td>(القان) ابوضروه</td>\n",
              "      <td>مكة المكرمة</td>\n",
              "      <td>أنثى</td>\n",
              "      <td>8</td>\n",
              "    </tr>\n",
              "    <tr>\n",
              "      <th>1</th>\n",
              "      <td>سعودي</td>\n",
              "      <td>ميسان</td>\n",
              "      <td>(القان) ابوضروه</td>\n",
              "      <td>مكة المكرمة</td>\n",
              "      <td>ذكر</td>\n",
              "      <td>9</td>\n",
              "    </tr>\n",
              "    <tr>\n",
              "      <th>2</th>\n",
              "      <td>سعودي</td>\n",
              "      <td>المهد</td>\n",
              "      <td>آبار البدايع</td>\n",
              "      <td>المدينة المنورة</td>\n",
              "      <td>أنثى</td>\n",
              "      <td>17</td>\n",
              "    </tr>\n",
              "    <tr>\n",
              "      <th>3</th>\n",
              "      <td>سعودي</td>\n",
              "      <td>المهد</td>\n",
              "      <td>آبار البدايع</td>\n",
              "      <td>المدينة المنورة</td>\n",
              "      <td>ذكر</td>\n",
              "      <td>8</td>\n",
              "    </tr>\n",
              "    <tr>\n",
              "      <th>4</th>\n",
              "      <td>سعودي</td>\n",
              "      <td>المهد</td>\n",
              "      <td>آبار الخبره</td>\n",
              "      <td>المدينة المنورة</td>\n",
              "      <td>ذكر</td>\n",
              "      <td>7</td>\n",
              "    </tr>\n",
              "  </tbody>\n",
              "</table>\n",
              "</div>\n",
              "    <div class=\"colab-df-buttons\">\n",
              "\n",
              "  <div class=\"colab-df-container\">\n",
              "    <button class=\"colab-df-convert\" onclick=\"convertToInteractive('df-95344e7d-d83a-4618-8fa7-c9b1b7067104')\"\n",
              "            title=\"Convert this dataframe to an interactive table.\"\n",
              "            style=\"display:none;\">\n",
              "\n",
              "  <svg xmlns=\"http://www.w3.org/2000/svg\" height=\"24px\" viewBox=\"0 -960 960 960\">\n",
              "    <path d=\"M120-120v-720h720v720H120Zm60-500h600v-160H180v160Zm220 220h160v-160H400v160Zm0 220h160v-160H400v160ZM180-400h160v-160H180v160Zm440 0h160v-160H620v160ZM180-180h160v-160H180v160Zm440 0h160v-160H620v160Z\"/>\n",
              "  </svg>\n",
              "    </button>\n",
              "\n",
              "  <style>\n",
              "    .colab-df-container {\n",
              "      display:flex;\n",
              "      gap: 12px;\n",
              "    }\n",
              "\n",
              "    .colab-df-convert {\n",
              "      background-color: #E8F0FE;\n",
              "      border: none;\n",
              "      border-radius: 50%;\n",
              "      cursor: pointer;\n",
              "      display: none;\n",
              "      fill: #1967D2;\n",
              "      height: 32px;\n",
              "      padding: 0 0 0 0;\n",
              "      width: 32px;\n",
              "    }\n",
              "\n",
              "    .colab-df-convert:hover {\n",
              "      background-color: #E2EBFA;\n",
              "      box-shadow: 0px 1px 2px rgba(60, 64, 67, 0.3), 0px 1px 3px 1px rgba(60, 64, 67, 0.15);\n",
              "      fill: #174EA6;\n",
              "    }\n",
              "\n",
              "    .colab-df-buttons div {\n",
              "      margin-bottom: 4px;\n",
              "    }\n",
              "\n",
              "    [theme=dark] .colab-df-convert {\n",
              "      background-color: #3B4455;\n",
              "      fill: #D2E3FC;\n",
              "    }\n",
              "\n",
              "    [theme=dark] .colab-df-convert:hover {\n",
              "      background-color: #434B5C;\n",
              "      box-shadow: 0px 1px 3px 1px rgba(0, 0, 0, 0.15);\n",
              "      filter: drop-shadow(0px 1px 2px rgba(0, 0, 0, 0.3));\n",
              "      fill: #FFFFFF;\n",
              "    }\n",
              "  </style>\n",
              "\n",
              "    <script>\n",
              "      const buttonEl =\n",
              "        document.querySelector('#df-95344e7d-d83a-4618-8fa7-c9b1b7067104 button.colab-df-convert');\n",
              "      buttonEl.style.display =\n",
              "        google.colab.kernel.accessAllowed ? 'block' : 'none';\n",
              "\n",
              "      async function convertToInteractive(key) {\n",
              "        const element = document.querySelector('#df-95344e7d-d83a-4618-8fa7-c9b1b7067104');\n",
              "        const dataTable =\n",
              "          await google.colab.kernel.invokeFunction('convertToInteractive',\n",
              "                                                    [key], {});\n",
              "        if (!dataTable) return;\n",
              "\n",
              "        const docLinkHtml = 'Like what you see? Visit the ' +\n",
              "          '<a target=\"_blank\" href=https://colab.research.google.com/notebooks/data_table.ipynb>data table notebook</a>'\n",
              "          + ' to learn more about interactive tables.';\n",
              "        element.innerHTML = '';\n",
              "        dataTable['output_type'] = 'display_data';\n",
              "        await google.colab.output.renderOutput(dataTable, element);\n",
              "        const docLink = document.createElement('div');\n",
              "        docLink.innerHTML = docLinkHtml;\n",
              "        element.appendChild(docLink);\n",
              "      }\n",
              "    </script>\n",
              "  </div>\n",
              "\n",
              "\n",
              "<div id=\"df-34e1e4e7-2bf0-46a0-8315-7146dc43e030\">\n",
              "  <button class=\"colab-df-quickchart\" onclick=\"quickchart('df-34e1e4e7-2bf0-46a0-8315-7146dc43e030')\"\n",
              "            title=\"Suggest charts\"\n",
              "            style=\"display:none;\">\n",
              "\n",
              "<svg xmlns=\"http://www.w3.org/2000/svg\" height=\"24px\"viewBox=\"0 0 24 24\"\n",
              "     width=\"24px\">\n",
              "    <g>\n",
              "        <path d=\"M19 3H5c-1.1 0-2 .9-2 2v14c0 1.1.9 2 2 2h14c1.1 0 2-.9 2-2V5c0-1.1-.9-2-2-2zM9 17H7v-7h2v7zm4 0h-2V7h2v10zm4 0h-2v-4h2v4z\"/>\n",
              "    </g>\n",
              "</svg>\n",
              "  </button>\n",
              "\n",
              "<style>\n",
              "  .colab-df-quickchart {\n",
              "      --bg-color: #E8F0FE;\n",
              "      --fill-color: #1967D2;\n",
              "      --hover-bg-color: #E2EBFA;\n",
              "      --hover-fill-color: #174EA6;\n",
              "      --disabled-fill-color: #AAA;\n",
              "      --disabled-bg-color: #DDD;\n",
              "  }\n",
              "\n",
              "  [theme=dark] .colab-df-quickchart {\n",
              "      --bg-color: #3B4455;\n",
              "      --fill-color: #D2E3FC;\n",
              "      --hover-bg-color: #434B5C;\n",
              "      --hover-fill-color: #FFFFFF;\n",
              "      --disabled-bg-color: #3B4455;\n",
              "      --disabled-fill-color: #666;\n",
              "  }\n",
              "\n",
              "  .colab-df-quickchart {\n",
              "    background-color: var(--bg-color);\n",
              "    border: none;\n",
              "    border-radius: 50%;\n",
              "    cursor: pointer;\n",
              "    display: none;\n",
              "    fill: var(--fill-color);\n",
              "    height: 32px;\n",
              "    padding: 0;\n",
              "    width: 32px;\n",
              "  }\n",
              "\n",
              "  .colab-df-quickchart:hover {\n",
              "    background-color: var(--hover-bg-color);\n",
              "    box-shadow: 0 1px 2px rgba(60, 64, 67, 0.3), 0 1px 3px 1px rgba(60, 64, 67, 0.15);\n",
              "    fill: var(--button-hover-fill-color);\n",
              "  }\n",
              "\n",
              "  .colab-df-quickchart-complete:disabled,\n",
              "  .colab-df-quickchart-complete:disabled:hover {\n",
              "    background-color: var(--disabled-bg-color);\n",
              "    fill: var(--disabled-fill-color);\n",
              "    box-shadow: none;\n",
              "  }\n",
              "\n",
              "  .colab-df-spinner {\n",
              "    border: 2px solid var(--fill-color);\n",
              "    border-color: transparent;\n",
              "    border-bottom-color: var(--fill-color);\n",
              "    animation:\n",
              "      spin 1s steps(1) infinite;\n",
              "  }\n",
              "\n",
              "  @keyframes spin {\n",
              "    0% {\n",
              "      border-color: transparent;\n",
              "      border-bottom-color: var(--fill-color);\n",
              "      border-left-color: var(--fill-color);\n",
              "    }\n",
              "    20% {\n",
              "      border-color: transparent;\n",
              "      border-left-color: var(--fill-color);\n",
              "      border-top-color: var(--fill-color);\n",
              "    }\n",
              "    30% {\n",
              "      border-color: transparent;\n",
              "      border-left-color: var(--fill-color);\n",
              "      border-top-color: var(--fill-color);\n",
              "      border-right-color: var(--fill-color);\n",
              "    }\n",
              "    40% {\n",
              "      border-color: transparent;\n",
              "      border-right-color: var(--fill-color);\n",
              "      border-top-color: var(--fill-color);\n",
              "    }\n",
              "    60% {\n",
              "      border-color: transparent;\n",
              "      border-right-color: var(--fill-color);\n",
              "    }\n",
              "    80% {\n",
              "      border-color: transparent;\n",
              "      border-right-color: var(--fill-color);\n",
              "      border-bottom-color: var(--fill-color);\n",
              "    }\n",
              "    90% {\n",
              "      border-color: transparent;\n",
              "      border-bottom-color: var(--fill-color);\n",
              "    }\n",
              "  }\n",
              "</style>\n",
              "\n",
              "  <script>\n",
              "    async function quickchart(key) {\n",
              "      const quickchartButtonEl =\n",
              "        document.querySelector('#' + key + ' button');\n",
              "      quickchartButtonEl.disabled = true;  // To prevent multiple clicks.\n",
              "      quickchartButtonEl.classList.add('colab-df-spinner');\n",
              "      try {\n",
              "        const charts = await google.colab.kernel.invokeFunction(\n",
              "            'suggestCharts', [key], {});\n",
              "      } catch (error) {\n",
              "        console.error('Error during call to suggestCharts:', error);\n",
              "      }\n",
              "      quickchartButtonEl.classList.remove('colab-df-spinner');\n",
              "      quickchartButtonEl.classList.add('colab-df-quickchart-complete');\n",
              "    }\n",
              "    (() => {\n",
              "      let quickchartButtonEl =\n",
              "        document.querySelector('#df-34e1e4e7-2bf0-46a0-8315-7146dc43e030 button');\n",
              "      quickchartButtonEl.style.display =\n",
              "        google.colab.kernel.accessAllowed ? 'block' : 'none';\n",
              "    })();\n",
              "  </script>\n",
              "</div>\n",
              "\n",
              "    </div>\n",
              "  </div>\n"
            ],
            "application/vnd.google.colaboratory.intrinsic+json": {
              "type": "dataframe",
              "variable_name": "DATA",
              "summary": "{\n  \"name\": \"DATA\",\n  \"rows\": 48878,\n  \"fields\": [\n    {\n      \"column\": \"\\u0627\\u0644\\u062c\\u0646\\u0633\\u064a\\u0629\",\n      \"properties\": {\n        \"dtype\": \"category\",\n        \"num_unique_values\": 2,\n        \"samples\": [\n          \"\\u063a\\u064a\\u0631 \\u0633\\u0639\\u0648\\u062f\\u064a\",\n          \"\\u0633\\u0639\\u0648\\u062f\\u064a\"\n        ],\n        \"semantic_type\": \"\",\n        \"description\": \"\"\n      }\n    },\n    {\n      \"column\": \"\\u0627\\u0644\\u0645\\u062d\\u0627\\u0641\\u0638\\u0629\",\n      \"properties\": {\n        \"dtype\": \"category\",\n        \"num_unique_values\": 150,\n        \"samples\": [\n          \"\\u0645\\u0631\\u0627\\u062a\",\n          \"\\u0628\\u064a\\u0634\\u0629\"\n        ],\n        \"semantic_type\": \"\",\n        \"description\": \"\"\n      }\n    },\n    {\n      \"column\": \"\\u0627\\u0644\\u0645\\u062f\\u064a\\u0646\\u0629\",\n      \"properties\": {\n        \"dtype\": \"category\",\n        \"num_unique_values\": 14819,\n        \"samples\": [\n          \"\\u0627\\u0644\\u0645\\u062c\\u0627\\u0648\\u0632\\u0647\",\n          \"\\u0639\\u0631\\u064a\\u062c\\u0647\"\n        ],\n        \"semantic_type\": \"\",\n        \"description\": \"\"\n      }\n    },\n    {\n      \"column\": \"\\u0627\\u0644\\u0645\\u0646\\u0637\\u0642\\u0629\",\n      \"properties\": {\n        \"dtype\": \"category\",\n        \"num_unique_values\": 13,\n        \"samples\": [\n          \"\\u062a\\u0628\\u0648\\u0643\",\n          \"\\u0627\\u0644\\u062d\\u062f\\u0648\\u062f \\u0627\\u0644\\u0634\\u0645\\u0627\\u0644\\u064a\\u0629\"\n        ],\n        \"semantic_type\": \"\",\n        \"description\": \"\"\n      }\n    },\n    {\n      \"column\": \"\\u0627\\u0644\\u0646\\u0648\\u0639\",\n      \"properties\": {\n        \"dtype\": \"category\",\n        \"num_unique_values\": 2,\n        \"samples\": [\n          \"\\u0630\\u0643\\u0631\",\n          \"\\u0623\\u0646\\u062b\\u0649\"\n        ],\n        \"semantic_type\": \"\",\n        \"description\": \"\"\n      }\n    },\n    {\n      \"column\": \"\\u0627\\u0644\\u0633\\u0643\\u0627\\u0646\",\n      \"properties\": {\n        \"dtype\": \"number\",\n        \"std\": 20781,\n        \"min\": 1,\n        \"max\": 2697012,\n        \"num_unique_values\": 2034,\n        \"samples\": [\n          280,\n          147\n        ],\n        \"semantic_type\": \"\",\n        \"description\": \"\"\n      }\n    }\n  ]\n}"
            }
          },
          "metadata": {},
          "execution_count": 5
        }
      ]
    },
    {
      "cell_type": "code",
      "source": [
        "# # Check columns and unique values\n",
        "print(\"الجنسية:\", DATA['الجنسية'].unique())\n",
        "print(\"المحافظة:\", DATA['المحافظة'].unique())\n",
        "print(\"النوع:\", DATA['النوع'].unique())"
      ],
      "metadata": {
        "colab": {
          "base_uri": "https://localhost:8080/"
        },
        "id": "PQ4L5kEp4zR_",
        "outputId": "38e0ce18-11aa-419a-81d6-757013952536"
      },
      "execution_count": 7,
      "outputs": [
        {
          "output_type": "stream",
          "name": "stdout",
          "text": [
            "الجنسية: ['سعودي' 'غير سعودي']\n",
            "المحافظة: ['ميسان' 'المهد' 'الحائط' 'ينبع' 'المدينة المنورة (مقر الامارة)' 'السليمي'\n",
            " 'ابها (مقر الإمارة)' 'الحرجة' 'فيفا' 'الدائر' 'النماص' 'سراة عبيدة'\n",
            " 'حوطة بنى تميم' 'خميس  مشيط' 'بارق' 'احد رفيدة' 'العرضيات' 'طريب' 'بيشة'\n",
            " 'محايل' 'المجاردة' 'تنومة' 'بالقرن' 'المخواة' 'تثليث' 'وادى الدواسر'\n",
            " 'الطائف' 'هروب' 'القويعية' 'بدر' 'الشنان' 'ابو عريش' 'صامطة' 'العارضة'\n",
            " 'العيدابي' 'النبهانية' 'الدوادمي' 'أضم' 'البرك' 'الليث' 'الحجرة' 'العقيق'\n",
            " 'القرى' 'المندق' 'بلجرشي' 'بني حسن' 'فرعة غامد الزناد' 'قلوة' 'القريات'\n",
            " 'دومة الجندل' 'سكاكا (مقر الامارة)' 'طبرجل' 'العويقيلة' 'رفحاء'\n",
            " 'عرعر (مقر الامارة)' 'الافلاج' 'الحريق' 'الخرج' 'الدرعية' 'الدلم'\n",
            " 'الرياض (مقر الامارة)' 'الرين' 'الزلفي' 'السليل' 'الغاط' 'المجمعة'\n",
            " 'المزاحمية' 'ثادق' 'حريملاء' 'رماح' 'شقراء' 'ضرما' 'عفيف' 'مرات'\n",
            " 'الأسياح' 'البدائع' 'البكيرية' 'الرس' 'الشماسية' 'المذنب'\n",
            " 'بريدة (مقرالامارة)' 'رياض الخبراء' 'ضرية' 'عقلة الصقور' 'عنيزة'\n",
            " 'عيون الجواء' 'الحناكية' 'العلا' 'العيص' 'خيبر' 'وادي الفرع' 'الاحساء'\n",
            " 'الجبيل' 'الخبر' 'الخفجي' 'الدمام (مقرالامارة)' 'العديد' 'القطيف'\n",
            " 'النعيرية' 'بقيق' 'حفر الباطن' 'رأس تنورة' 'قرية العليا' 'البدع' 'الوجة'\n",
            " 'املج' 'تبوك (مقرالامارة)' 'تيماء' 'حقل' 'ضباء' 'احد المسارحة' 'الحرث'\n",
            " 'الدرب' 'الريث' 'الطوال' 'بيش' 'جازان (مقر الامارة)' 'صبياء' 'ضمد'\n",
            " 'فرسان' 'الشملي' 'الغزالة' 'بقعاء' 'حائل(مقر الامارة)' 'سميراء' 'موقق'\n",
            " 'الا مواة' 'رجال المع' 'ظهران الجنوب' 'الجموم' 'الخرمة' 'القنفذة'\n",
            " 'الكامل' 'الموية' 'بحرة' 'تربة' 'جدة' 'خليص' 'رابغ' 'رنية'\n",
            " 'مكة المكرمة (مقر الإمارة)' 'بدر الجنوب' 'ثار' 'حبونا' 'خباش' 'شرورة'\n",
            " 'نجران (مقر الامارة)' 'يدمة' 'طريف' 'الباحة (مقرالامارة)']\n",
            "النوع: ['أنثى' 'ذكر']\n"
          ]
        }
      ]
    },
    {
      "cell_type": "code",
      "source": [
        "# Check the largest cities by population\n",
        "top_cities = DATA.groupby('المدينة')['السكان'].sum().sort_values(ascending=False).head(20)\n",
        "print(\"أكبر المدن:\", top_cities)"
      ],
      "metadata": {
        "colab": {
          "base_uri": "https://localhost:8080/"
        },
        "id": "sQkalzCB5G_f",
        "outputId": "ebb960bf-bea5-43b6-f7ec-f1dc8beb6552"
      },
      "execution_count": 10,
      "outputs": [
        {
          "output_type": "stream",
          "name": "stdout",
          "text": [
            "أكبر المدن: المدينة\n",
            "الرياض             6924704\n",
            "جدة                3712917\n",
            "مكة المكرمة        2385509\n",
            "المدينة المنورة    1411599\n",
            "الدمام             1386166\n",
            "تبوك                594350\n",
            "بريدة               571365\n",
            "الطائف              563433\n",
            "خميس مشيط           535065\n",
            "حائل                448623\n",
            "الهفوف              430415\n",
            "الخبر               409549\n",
            "حفر الباطن          387096\n",
            "نجران               381431\n",
            "ابها                334290\n",
            "الجبيل              312646\n",
            "المبرز              299855\n",
            "الخرج               295568\n",
            "ينبع                258777\n",
            "الثقبه              248888\n",
            "Name: السكان, dtype: int64\n"
          ]
        }
      ]
    },
    {
      "cell_type": "code",
      "source": [
        "def reshape_text(text):\n",
        "    reshaped = arabic_reshaper.reshape(text)\n",
        "    return get_display(reshaped)"
      ],
      "metadata": {
        "id": "hIvBgX7s6Oaf"
      },
      "execution_count": 17,
      "outputs": []
    },
    {
      "cell_type": "code",
      "source": [
        "top_cities.index = [reshape_text(city) for city in top_cities.index]"
      ],
      "metadata": {
        "id": "TxtV9hrg6Vsm"
      },
      "execution_count": 18,
      "outputs": []
    },
    {
      "cell_type": "code",
      "source": [
        "top_cities.plot(kind='bar', figsize=(12, 6), color='skyblue')\n",
        "plt.title(reshape_text('توزيع السكان حسب المدن'), fontsize=16)\n",
        "plt.ylabel(reshape_text('عدد السكان'), fontsize=14)\n",
        "plt.xlabel(reshape_text('المدينة'), fontsize=14)\n",
        "plt.xticks(rotation=45, fontsize=12, ha='right')\n",
        "plt.yticks(fontsize=12)\n",
        "plt.tight_layout()"
      ],
      "metadata": {
        "colab": {
          "base_uri": "https://localhost:8080/",
          "height": 548
        },
        "id": "sOOhTedh5jyg",
        "outputId": "7a106ebe-2a48-4aa5-d29c-b2c9f2d3e426"
      },
      "execution_count": 19,
      "outputs": [
        {
          "output_type": "display_data",
          "data": {
            "text/plain": [
              "<Figure size 1200x600 with 1 Axes>"
            ],
            "image/png": "[encoded data removed]"
          },
          "metadata": {}
        }
      ]
    },
    {
      "cell_type": "code",
      "source": [
        "population_by_city = DATA.groupby('المدينة')['السكان'].sum().reset_index()\n",
        "population_by_city.columns = ['City', 'Population']"
      ],
      "metadata": {
        "id": "bXjupfb_-zSG"
      },
      "execution_count": 32,
      "outputs": []
    },
    {
      "cell_type": "code",
      "source": [
        "# URL\n",
        "world = gpd.read_file('https://raw.githubusercontent.com/PublicaMundi/MappingAPI/master/data/geojson/us-states.json')"
      ],
      "metadata": {
        "id": "4ASzTyDkCyxd"
      },
      "execution_count": 36,
      "outputs": []
    },
    {
      "cell_type": "code",
      "source": [
        "import folium\n",
        "\n",
        "\n",
        "cities_data = {\n",
        "    \"الرياض\": (24.7136, 46.6753, 6924704),\n",
        "    \"جدة\": (21.4858, 39.1925, 3712917),\n",
        "    \"مكة المكرمة\": (21.3891, 39.8579, 2385509),\n",
        "    \"المدينة المنورة\": (24.5247, 39.5692, 1411599),\n",
        "    \"الدمام\": (26.4207, 50.0888, 1386166),\n",
        "    \"تبوك\": (28.3838, 36.5662, 594350),\n",
        "    \"بريدة\": (26.3260, 43.9750, 571365),\n",
        "    \"الطائف\": (21.2854, 40.4264, 563433),\n",
        "    \"خميس مشيط\": (18.3090, 42.7939, 535065),\n",
        "    \"حائل\": (27.5114, 41.7208, 448623)\n",
        "}\n",
        "\n",
        "\n",
        "saudi_map = folium.Map(location=[23.8859, 45.0792], zoom_start=6)\n",
        "\n",
        "\n",
        "for city, (lat, lon, population) in cities_data.items():\n",
        "    folium.CircleMarker(\n",
        "        location=[lat, lon],\n",
        "        radius=population / 1000000,  # حجم الدائرة بناءً على عدد السكان\n",
        "        popup=f\"<b>{city}</b><br>عدد السكان: {population:,} نسمة\",\n",
        "        color='blue',\n",
        "        fill=True,\n",
        "        fill_color='blue',\n",
        "        fill_opacity=0.6\n",
        "    ).add_to(saudi_map)\n",
        "\n",
        "\n",
        "output_file = \"saudi_population_map.html\"\n",
        "saudi_map.save(output_file)\n",
        "print(f\"تم إنشاء الخريطة وحفظها في الملف: {output_file}\")\n"
      ],
      "metadata": {
        "colab": {
          "base_uri": "https://localhost:8080/"
        },
        "id": "-fGqpO-KuSYF",
        "outputId": "1085433f-b9aa-439c-9dc0-0cc9ea1a37df"
      },
      "execution_count": 4,
      "outputs": [
        {
          "output_type": "stream",
          "name": "stdout",
          "text": [
            "تم إنشاء الخريطة وحفظها في الملف: saudi_population_map.html\n"
          ]
        }
      ]
    },
    {
      "cell_type": "code",
      "source": [
        "import folium\n",
        "\n",
        "\n",
        "cities_data = {\n",
        "    \"الرياض\": (24.7136, 46.6753, 6924704, \"سعوديون: 60%, غير سعوديون: 40%\", \"ذكور: 51%, إناث: 49%\"),\n",
        "    \"جدة\": (21.4858, 39.1925, 3712917, \"سعوديون: 55%, غير سعوديون: 45%\", \"ذكور: 53%, إناث: 47%\"),\n",
        "    \"مكة المكرمة\": (21.3891, 39.8579, 2385509, \"سعوديون: 50%, غير سعوديون: 50%\", \"ذكور: 52%, إناث: 48%\"),\n",
        "    \"المدينة المنورة\": (24.5247, 39.5692, 1411599, \"سعوديون: 65%, غير سعوديون: 35%\", \"ذكور: 54%, إناث: 46%\"),\n",
        "    \"الدمام\": (26.4207, 50.0888, 1386166, \"سعوديون: 70%, غير سعوديون: 30%\", \"ذكور: 50%, إناث: 50%\"),\n",
        "    \"تبوك\": (28.3838, 36.5662, 594350, \"سعوديون: 80%, غير سعوديون: 20%\", \"ذكور: 51%, إناث: 49%\"),\n",
        "    \"بريدة\": (26.3260, 43.9750, 571365, \"سعوديون: 85%, غير سعوديون: 15%\", \"ذكور: 52%, إناث: 48%\"),\n",
        "    \"الطائف\": (21.2854, 40.4264, 563433, \"سعوديون: 75%, غير سعوديون: 25%\", \"ذكور: 53%, إناث: 47%\"),\n",
        "    \"خميس مشيط\": (18.3090, 42.7939, 535065, \"سعوديون: 60%, غير سعوديون: 40%\", \"ذكور: 50%, إناث: 50%\"),\n",
        "    \"حائل\": (27.5114, 41.7208, 448623, \"سعوديون: 90%, غير سعوديون: 10%\", \"ذكور: 55%, إناث: 45%\")\n",
        "}\n",
        "\n",
        "\n",
        "saudi_map = folium.Map(location=[23.8859, 45.0792], zoom_start=6)\n",
        "\n",
        "\n",
        "for city, (lat, lon, population, nationality, gender) in cities_data.items():\n",
        "    popup_content = f\"\"\"\n",
        "    <h4>معلومات عن {city}</h4>\n",
        "    <p><b>عدد السكان:</b> {population:,} نسمة</p>\n",
        "    <p><b>الجنسية:</b> {nationality}</p>\n",
        "    <p><b>الجنس:</b> {gender}</p>\n",
        "    \"\"\"\n",
        "    folium.Marker(\n",
        "        location=[lat, lon],\n",
        "        popup=folium.Popup(popup_content, max_width=300),\n",
        "        icon=folium.Icon(color='blue', icon='info-sign')\n",
        "    ).add_to(saudi_map)\n",
        "\n",
        "\n",
        "output_file = \"saudi_population_info_map.html\"\n",
        "saudi_map.save(output_file)\n",
        "print(f\"تم إنشاء الخريطة وحفظها في الملف: {output_file}\")\n"
      ],
      "metadata": {
        "colab": {
          "base_uri": "https://localhost:8080/"
        },
        "id": "L4w0S9T0u7y9",
        "outputId": "5e0ed849-634c-4113-f6f2-811e1d39795d"
      },
      "execution_count": 5,
      "outputs": [
        {
          "output_type": "stream",
          "name": "stdout",
          "text": [
            "تم إنشاء الخريطة وحفظها في الملف: saudi_population_info_map.html\n"
          ]
        }
      ]
    },
    {
      "cell_type": "code",
      "source": [
        "import plotly.express as px\n",
        "import pandas as pd\n",
        "\n",
        "\n",
        "data = {\n",
        "    \"المدينة\": [\"الرياض\", \"جدة\", \"مكة المكرمة\", \"المدينة المنورة\", \"الدمام\", \"تبوك\", \"بريدة\", \"الطائف\", \"خميس مشيط\", \"حائل\"],\n",
        "    \"عدد السكان\": [6924704, 3712917, 2385509, 1411599, 1386166, 594350, 571365, 563433, 535065, 448623],\n",
        "    \"نسبة السعوديين\": [60, 55, 50, 65, 70, 80, 85, 75, 60, 90]  # كنسبة مئوية\n",
        "}\n",
        "\n",
        "\n",
        "df = pd.DataFrame(data)\n",
        "\n",
        "\n",
        "df[\"عدد غير السعوديين\"] = df[\"عدد السكان\"] * (100 - df[\"نسبة السعوديين\"]) / 100\n",
        "\n",
        "\n",
        "fig = px.bar(\n",
        "    df,\n",
        "    x=\"المدينة\",\n",
        "    y=\"عدد غير السعوديين\",\n",
        "    text=\"عدد غير السعوديين\",\n",
        "    title=\"عدد غير السعوديين في كل مدينة\",\n",
        "    labels={\"عدد غير السعوديين\": \"عدد غير السعوديين\", \"المدينة\": \"المدينة\"},\n",
        "    color=\"عدد غير السعوديين\",\n",
        "    color_continuous_scale=\"Viridis\"\n",
        ")\n",
        "\n",
        "\n",
        "fig.update_traces(texttemplate='%{text:.0f}', textposition='outside')\n",
        "fig.update_layout(\n",
        "    xaxis_title=\"المدينة\",\n",
        "    yaxis_title=\"عدد غير السعوديين\",\n",
        "    title_x=0.5\n",
        ")\n",
        "\n",
        "\n",
        "fig.show()\n"
      ],
      "metadata": {
        "colab": {
          "base_uri": "https://localhost:8080/",
          "height": 542
        },
        "id": "Cps-oeHjvNiB",
        "outputId": "42b4e23f-d37a-4d38-e127-fa50e8d2d59b"
      },
      "execution_count": 6,
      "outputs": [
        {
          "output_type": "display_data",
          "data": {
            "text/html": [
              "<html>\n",
              "<head><meta charset=\"utf-8\" /></head>\n",
              "<body>\n",
              "    <div>            <script src=\"https://cdnjs.cloudflare.com/ajax/libs/mathjax/2.7.5/MathJax.js?config=TeX-AMS-MML_SVG\"></script><script type=\"text/javascript\">if (window.MathJax && window.MathJax.Hub && window.MathJax.Hub.Config) {window.MathJax.Hub.Config({SVG: {font: \"STIX-Web\"}});}</script>                <script type=\"text/javascript\">window.PlotlyConfig = {MathJaxConfig: 'local'};</script>\n",
              "        <script charset=\"utf-8\" src=\"https://cdn.plot.ly/plotly-2.35.2.min.js\"></script>                <div id=\"e1cc77ac-e442-40d4-821c-f2a6e8c6fd0f\" class=\"plotly-graph-div\" style=\"height:525px; width:100%;\"></div>            <script type=\"text/javascript\">                                    window.PLOTLYENV=window.PLOTLYENV || {};                                    if (document.getElementById(\"e1cc77ac-e442-40d4-821c-f2a6e8c6fd0f\")) {                    Plotly.newPlot(                        \"e1cc77ac-e442-40d4-821c-f2a6e8c6fd0f\",                        [{\"alignmentgroup\":\"True\",\"hovertemplate\":\"المدينة=%{x}\\u003cbr\\u003eعدد غير السعوديين=%{marker.color}\\u003cextra\\u003e\\u003c\\u002fextra\\u003e\",\"legendgroup\":\"\",\"marker\":{\"color\":[2769881.6,1670812.65,1192754.5,494059.65,415849.8,118870.0,85704.75,140858.25,214026.0,44862.3],\"coloraxis\":\"coloraxis\",\"pattern\":{\"shape\":\"\"}},\"name\":\"\",\"offsetgroup\":\"\",\"orientation\":\"v\",\"showlegend\":false,\"text\":[2769881.6,1670812.65,1192754.5,494059.65,415849.8,118870.0,85704.75,140858.25,214026.0,44862.3],\"textposition\":\"outside\",\"x\":[\"الرياض\",\"جدة\",\"مكة المكرمة\",\"المدينة المنورة\",\"الدمام\",\"تبوك\",\"بريدة\",\"الطائف\",\"خميس مشيط\",\"حائل\"],\"xaxis\":\"x\",\"y\":[2769881.6,1670812.65,1192754.5,494059.65,415849.8,118870.0,85704.75,140858.25,214026.0,44862.3],\"yaxis\":\"y\",\"type\":\"bar\",\"texttemplate\":\"%{text:.0f}\"}],                        {\"template\":{\"data\":{\"histogram2dcontour\":[{\"type\":\"histogram2dcontour\",\"colorbar\":{\"outlinewidth\":0,\"ticks\":\"\"},\"colorscale\":[[0.0,\"#0d0887\"],[0.1111111111111111,\"#46039f\"],[0.2222222222222222,\"#7201a8\"],[0.3333333333333333,\"#9c179e\"],[0.4444444444444444,\"#bd3786\"],[0.5555555555555556,\"#d8576b\"],[0.6666666666666666,\"#ed7953\"],[0.7777777777777778,\"#fb9f3a\"],[0.8888888888888888,\"#fdca26\"],[1.0,\"#f0f921\"]]}],\"choropleth\":[{\"type\":\"choropleth\",\"colorbar\":{\"outlinewidth\":0,\"ticks\":\"\"}}],\"histogram2d\":[{\"type\":\"histogram2d\",\"colorbar\":{\"outlinewidth\":0,\"ticks\":\"\"},\"colorscale\":[[0.0,\"#0d0887\"],[0.1111111111111111,\"#46039f\"],[0.2222222222222222,\"#7201a8\"],[0.3333333333333333,\"#9c179e\"],[0.4444444444444444,\"#bd3786\"],[0.5555555555555556,\"#d8576b\"],[0.6666666666666666,\"#ed7953\"],[0.7777777777777778,\"#fb9f3a\"],[0.8888888888888888,\"#fdca26\"],[1.0,\"#f0f921\"]]}],\"heatmap\":[{\"type\":\"heatmap\",\"colorbar\":{\"outlinewidth\":0,\"ticks\":\"\"},\"colorscale\":[[0.0,\"#0d0887\"],[0.1111111111111111,\"#46039f\"],[0.2222222222222222,\"#7201a8\"],[0.3333333333333333,\"#9c179e\"],[0.4444444444444444,\"#bd3786\"],[0.5555555555555556,\"#d8576b\"],[0.6666666666666666,\"#ed7953\"],[0.7777777777777778,\"#fb9f3a\"],[0.8888888888888888,\"#fdca26\"],[1.0,\"#f0f921\"]]}],\"heatmapgl\":[{\"type\":\"heatmapgl\",\"colorbar\":{\"outlinewidth\":0,\"ticks\":\"\"},\"colorscale\":[[0.0,\"#0d0887\"],[0.1111111111111111,\"#46039f\"],[0.2222222222222222,\"#7201a8\"],[0.3333333333333333,\"#9c179e\"],[0.4444444444444444,\"#bd3786\"],[0.5555555555555556,\"#d8576b\"],[0.6666666666666666,\"#ed7953\"],[0.7777777777777778,\"#fb9f3a\"],[0.8888888888888888,\"#fdca26\"],[1.0,\"#f0f921\"]]}],\"contourcarpet\":[{\"type\":\"contourcarpet\",\"colorbar\":{\"outlinewidth\":0,\"ticks\":\"\"}}],\"contour\":[{\"type\":\"contour\",\"colorbar\":{\"outlinewidth\":0,\"ticks\":\"\"},\"colorscale\":[[0.0,\"#0d0887\"],[0.1111111111111111,\"#46039f\"],[0.2222222222222222,\"#7201a8\"],[0.3333333333333333,\"#9c179e\"],[0.4444444444444444,\"#bd3786\"],[0.5555555555555556,\"#d8576b\"],[0.6666666666666666,\"#ed7953\"],[0.7777777777777778,\"#fb9f3a\"],[0.8888888888888888,\"#fdca26\"],[1.0,\"#f0f921\"]]}],\"surface\":[{\"type\":\"surface\",\"colorbar\":{\"outlinewidth\":0,\"ticks\":\"\"},\"colorscale\":[[0.0,\"#0d0887\"],[0.1111111111111111,\"#46039f\"],[0.2222222222222222,\"#7201a8\"],[0.3333333333333333,\"#9c179e\"],[0.4444444444444444,\"#bd3786\"],[0.5555555555555556,\"#d8576b\"],[0.6666666666666666,\"#ed7953\"],[0.7777777777777778,\"#fb9f3a\"],[0.8888888888888888,\"#fdca26\"],[1.0,\"#f0f921\"]]}],\"mesh3d\":[{\"type\":\"mesh3d\",\"colorbar\":{\"outlinewidth\":0,\"ticks\":\"\"}}],\"scatter\":[{\"fillpattern\":{\"fillmode\":\"overlay\",\"size\":10,\"solidity\":0.2},\"type\":\"scatter\"}],\"parcoords\":[{\"type\":\"parcoords\",\"line\":{\"colorbar\":{\"outlinewidth\":0,\"ticks\":\"\"}}}],\"scatterpolargl\":[{\"type\":\"scatterpolargl\",\"marker\":{\"colorbar\":{\"outlinewidth\":0,\"ticks\":\"\"}}}],\"bar\":[{\"error_x\":{\"color\":\"#2a3f5f\"},\"error_y\":{\"color\":\"#2a3f5f\"},\"marker\":{\"line\":{\"color\":\"#E5ECF6\",\"width\":0.5},\"pattern\":{\"fillmode\":\"overlay\",\"size\":10,\"solidity\":0.2}},\"type\":\"bar\"}],\"scattergeo\":[{\"type\":\"scattergeo\",\"marker\":{\"colorbar\":{\"outlinewidth\":0,\"ticks\":\"\"}}}],\"scatterpolar\":[{\"type\":\"scatterpolar\",\"marker\":{\"colorbar\":{\"outlinewidth\":0,\"ticks\":\"\"}}}],\"histogram\":[{\"marker\":{\"pattern\":{\"fillmode\":\"overlay\",\"size\":10,\"solidity\":0.2}},\"type\":\"histogram\"}],\"scattergl\":[{\"type\":\"scattergl\",\"marker\":{\"colorbar\":{\"outlinewidth\":0,\"ticks\":\"\"}}}],\"scatter3d\":[{\"type\":\"scatter3d\",\"line\":{\"colorbar\":{\"outlinewidth\":0,\"ticks\":\"\"}},\"marker\":{\"colorbar\":{\"outlinewidth\":0,\"ticks\":\"\"}}}],\"scattermapbox\":[{\"type\":\"scattermapbox\",\"marker\":{\"colorbar\":{\"outlinewidth\":0,\"ticks\":\"\"}}}],\"scatterternary\":[{\"type\":\"scatterternary\",\"marker\":{\"colorbar\":{\"outlinewidth\":0,\"ticks\":\"\"}}}],\"scattercarpet\":[{\"type\":\"scattercarpet\",\"marker\":{\"colorbar\":{\"outlinewidth\":0,\"ticks\":\"\"}}}],\"carpet\":[{\"aaxis\":{\"endlinecolor\":\"#2a3f5f\",\"gridcolor\":\"white\",\"linecolor\":\"white\",\"minorgridcolor\":\"white\",\"startlinecolor\":\"#2a3f5f\"},\"baxis\":{\"endlinecolor\":\"#2a3f5f\",\"gridcolor\":\"white\",\"linecolor\":\"white\",\"minorgridcolor\":\"white\",\"startlinecolor\":\"#2a3f5f\"},\"type\":\"carpet\"}],\"table\":[{\"cells\":{\"fill\":{\"color\":\"#EBF0F8\"},\"line\":{\"color\":\"white\"}},\"header\":{\"fill\":{\"color\":\"#C8D4E3\"},\"line\":{\"color\":\"white\"}},\"type\":\"table\"}],\"barpolar\":[{\"marker\":{\"line\":{\"color\":\"#E5ECF6\",\"width\":0.5},\"pattern\":{\"fillmode\":\"overlay\",\"size\":10,\"solidity\":0.2}},\"type\":\"barpolar\"}],\"pie\":[{\"automargin\":true,\"type\":\"pie\"}]},\"layout\":{\"autotypenumbers\":\"strict\",\"colorway\":[\"#636efa\",\"#EF553B\",\"#00cc96\",\"#ab63fa\",\"#FFA15A\",\"#19d3f3\",\"#FF6692\",\"#B6E880\",\"#FF97FF\",\"#FECB52\"],\"font\":{\"color\":\"#2a3f5f\"},\"hovermode\":\"closest\",\"hoverlabel\":{\"align\":\"left\"},\"paper_bgcolor\":\"white\",\"plot_bgcolor\":\"#E5ECF6\",\"polar\":{\"bgcolor\":\"#E5ECF6\",\"angularaxis\":{\"gridcolor\":\"white\",\"linecolor\":\"white\",\"ticks\":\"\"},\"radialaxis\":{\"gridcolor\":\"white\",\"linecolor\":\"white\",\"ticks\":\"\"}},\"ternary\":{\"bgcolor\":\"#E5ECF6\",\"aaxis\":{\"gridcolor\":\"white\",\"linecolor\":\"white\",\"ticks\":\"\"},\"baxis\":{\"gridcolor\":\"white\",\"linecolor\":\"white\",\"ticks\":\"\"},\"caxis\":{\"gridcolor\":\"white\",\"linecolor\":\"white\",\"ticks\":\"\"}},\"coloraxis\":{\"colorbar\":{\"outlinewidth\":0,\"ticks\":\"\"}},\"colorscale\":{\"sequential\":[[0.0,\"#0d0887\"],[0.1111111111111111,\"#46039f\"],[0.2222222222222222,\"#7201a8\"],[0.3333333333333333,\"#9c179e\"],[0.4444444444444444,\"#bd3786\"],[0.5555555555555556,\"#d8576b\"],[0.6666666666666666,\"#ed7953\"],[0.7777777777777778,\"#fb9f3a\"],[0.8888888888888888,\"#fdca26\"],[1.0,\"#f0f921\"]],\"sequentialminus\":[[0.0,\"#0d0887\"],[0.1111111111111111,\"#46039f\"],[0.2222222222222222,\"#7201a8\"],[0.3333333333333333,\"#9c179e\"],[0.4444444444444444,\"#bd3786\"],[0.5555555555555556,\"#d8576b\"],[0.6666666666666666,\"#ed7953\"],[0.7777777777777778,\"#fb9f3a\"],[0.8888888888888888,\"#fdca26\"],[1.0,\"#f0f921\"]],\"diverging\":[[0,\"#8e0152\"],[0.1,\"#c51b7d\"],[0.2,\"#de77ae\"],[0.3,\"#f1b6da\"],[0.4,\"#fde0ef\"],[0.5,\"#f7f7f7\"],[0.6,\"#e6f5d0\"],[0.7,\"#b8e186\"],[0.8,\"#7fbc41\"],[0.9,\"#4d9221\"],[1,\"#276419\"]]},\"xaxis\":{\"gridcolor\":\"white\",\"linecolor\":\"white\",\"ticks\":\"\",\"title\":{\"standoff\":15},\"zerolinecolor\":\"white\",\"automargin\":true,\"zerolinewidth\":2},\"yaxis\":{\"gridcolor\":\"white\",\"linecolor\":\"white\",\"ticks\":\"\",\"title\":{\"standoff\":15},\"zerolinecolor\":\"white\",\"automargin\":true,\"zerolinewidth\":2},\"scene\":{\"xaxis\":{\"backgroundcolor\":\"#E5ECF6\",\"gridcolor\":\"white\",\"linecolor\":\"white\",\"showbackground\":true,\"ticks\":\"\",\"zerolinecolor\":\"white\",\"gridwidth\":2},\"yaxis\":{\"backgroundcolor\":\"#E5ECF6\",\"gridcolor\":\"white\",\"linecolor\":\"white\",\"showbackground\":true,\"ticks\":\"\",\"zerolinecolor\":\"white\",\"gridwidth\":2},\"zaxis\":{\"backgroundcolor\":\"#E5ECF6\",\"gridcolor\":\"white\",\"linecolor\":\"white\",\"showbackground\":true,\"ticks\":\"\",\"zerolinecolor\":\"white\",\"gridwidth\":2}},\"shapedefaults\":{\"line\":{\"color\":\"#2a3f5f\"}},\"annotationdefaults\":{\"arrowcolor\":\"#2a3f5f\",\"arrowhead\":0,\"arrowwidth\":1},\"geo\":{\"bgcolor\":\"white\",\"landcolor\":\"#E5ECF6\",\"subunitcolor\":\"white\",\"showland\":true,\"showlakes\":true,\"lakecolor\":\"white\"},\"title\":{\"x\":0.05},\"mapbox\":{\"style\":\"light\"}}},\"xaxis\":{\"anchor\":\"y\",\"domain\":[0.0,1.0],\"title\":{\"text\":\"المدينة\"}},\"yaxis\":{\"anchor\":\"x\",\"domain\":[0.0,1.0],\"title\":{\"text\":\"عدد غير السعوديين\"}},\"coloraxis\":{\"colorbar\":{\"title\":{\"text\":\"عدد غير السعوديين\"}},\"colorscale\":[[0.0,\"#440154\"],[0.1111111111111111,\"#482878\"],[0.2222222222222222,\"#3e4989\"],[0.3333333333333333,\"#31688e\"],[0.4444444444444444,\"#26828e\"],[0.5555555555555556,\"#1f9e89\"],[0.6666666666666666,\"#35b779\"],[0.7777777777777778,\"#6ece58\"],[0.8888888888888888,\"#b5de2b\"],[1.0,\"#fde725\"]]},\"legend\":{\"tracegroupgap\":0},\"title\":{\"text\":\"عدد غير السعوديين في كل مدينة\",\"x\":0.5},\"barmode\":\"relative\"},                        {\"responsive\": true}                    ).then(function(){\n",
              "                            \n",
              "var gd = document.getElementById('e1cc77ac-e442-40d4-821c-f2a6e8c6fd0f');\n",
              "var x = new MutationObserver(function (mutations, observer) {{\n",
              "        var display = window.getComputedStyle(gd).display;\n",
              "        if (!display || display === 'none') {{\n",
              "            console.log([gd, 'removed!']);\n",
              "            Plotly.purge(gd);\n",
              "            observer.disconnect();\n",
              "        }}\n",
              "}});\n",
              "\n",
              "// Listen for the removal of the full notebook cells\n",
              "var notebookContainer = gd.closest('#notebook-container');\n",
              "if (notebookContainer) {{\n",
              "    x.observe(notebookContainer, {childList: true});\n",
              "}}\n",
              "\n",
              "// Listen for the clearing of the current output cell\n",
              "var outputEl = gd.closest('.output');\n",
              "if (outputEl) {{\n",
              "    x.observe(outputEl, {childList: true});\n",
              "}}\n",
              "\n",
              "                        })                };                            </script>        </div>\n",
              "</body>\n",
              "</html>"
            ]
          },
          "metadata": {}
        }
      ]
    }
  ]
}